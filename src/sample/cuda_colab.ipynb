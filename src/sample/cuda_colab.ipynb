{
 "cells": [
  {
   "cell_type": "markdown",
   "metadata": {
    "id": "GY5LBx4UuxZl"
   },
   "source": [
    "# Setup"
   ]
  },
  {
   "cell_type": "code",
   "execution_count": null,
   "metadata": {
    "id": "PExlVrs4uv4m"
   },
   "outputs": [],
   "source": [
    "# https://www.geeksforgeeks.org/how-to-run-cuda-c-c-on-jupyter-notebook-in-google-colaboratory/"
   ]
  },
  {
   "cell_type": "code",
   "execution_count": null,
   "metadata": {
    "colab": {
     "base_uri": "https://localhost:8080/"
    },
    "executionInfo": {
     "elapsed": 68166,
     "status": "ok",
     "timestamp": 1646833726880,
     "user": {
      "displayName": "Steve Bezalel",
      "photoUrl": "https://lh3.googleusercontent.com/a-/AOh14Ggu5iaCS1Y11MmS77r82197wUw5PANdYNiBNDOG=s64",
      "userId": "00182546442033715099"
     },
     "user_tz": -420
    },
    "id": "M-AIy-7PsXXp",
    "outputId": "74293ca9-abc0-4bf2-f3a7-6fbc23221a99"
   },
   "outputs": [],
   "source": [
    "!apt-get --purge remove cuda nvidia* libnvidia-*\n",
    "!dpkg -l | grep cuda- | awk '{print $2}' | xargs -n1 dpkg --purge\n",
    "!apt-get remove cuda-*\n",
    "!apt autoremove\n",
    "!apt-get update"
   ]
  },
  {
   "cell_type": "code",
   "execution_count": null,
   "metadata": {
    "colab": {
     "base_uri": "https://localhost:8080/"
    },
    "executionInfo": {
     "elapsed": 280244,
     "status": "ok",
     "timestamp": 1646834007120,
     "user": {
      "displayName": "Steve Bezalel",
      "photoUrl": "https://lh3.googleusercontent.com/a-/AOh14Ggu5iaCS1Y11MmS77r82197wUw5PANdYNiBNDOG=s64",
      "userId": "00182546442033715099"
     },
     "user_tz": -420
    },
    "id": "ZNBZ95nauZ3u",
    "outputId": "313baee4-fcc6-45f0-a6be-9ac34b5825a8"
   },
   "outputs": [],
   "source": [
    "!wget https://developer.nvidia.com/compute/cuda/9.2/Prod/local_installers/cuda-repo-ubuntu1604-9-2-local_9.2.88-1_amd64 -O cuda-repo-ubuntu1604-9-2-local_9.2.88-1_amd64.deb\n",
    "!dpkg -i cuda-repo-ubuntu1604-9-2-local_9.2.88-1_amd64.deb\n",
    "!apt-key add /var/cuda-repo-9-2-local/7fa2af80.pub\n",
    "!apt-get update\n",
    "!apt-get install cuda-9.2"
   ]
  },
  {
   "cell_type": "markdown",
   "metadata": {
    "id": "KhW3T1YGu6Ew"
   },
   "source": [
    "# Kode CUDA"
   ]
  },
  {
   "cell_type": "code",
   "execution_count": null,
   "metadata": {
    "colab": {
     "base_uri": "https://localhost:8080/"
    },
    "executionInfo": {
     "elapsed": 34,
     "status": "ok",
     "timestamp": 1646834007120,
     "user": {
      "displayName": "Steve Bezalel",
      "photoUrl": "https://lh3.googleusercontent.com/a-/AOh14Ggu5iaCS1Y11MmS77r82197wUw5PANdYNiBNDOG=s64",
      "userId": "00182546442033715099"
     },
     "user_tz": -420
    },
    "id": "Co9T1Xpo3AnO",
    "outputId": "15ddfd72-15b0-42a3-a399-1943442c60e4"
   },
   "outputs": [],
   "source": [
    "%%writefile cuda.cu\n",
    "\n",
    "int main(void) {\n",
    "    return 0;\n",
    "}"
   ]
  },
  {
   "cell_type": "code",
   "execution_count": null,
   "metadata": {
    "id": "h6eFuOC1qTid"
   },
   "outputs": [],
   "source": [
    "!nvcc cuda.cu -o cuda"
   ]
  },
  {
   "cell_type": "markdown",
   "metadata": {
    "id": "-t4bNRTgs6AC"
   },
   "source": [
    "# Get Testcase"
   ]
  },
  {
   "cell_type": "code",
   "execution_count": null,
   "metadata": {
    "colab": {
     "base_uri": "https://localhost:8080/"
    },
    "executionInfo": {
     "elapsed": 2656,
     "status": "ok",
     "timestamp": 1646980858329,
     "user": {
      "displayName": "Steve Bezalel",
      "photoUrl": "https://lh3.googleusercontent.com/a-/AOh14Ggu5iaCS1Y11MmS77r82197wUw5PANdYNiBNDOG=s64",
      "userId": "00182546442033715099"
     },
     "user_tz": -420
    },
    "id": "Hw2QeQkFs9xG",
    "outputId": "ab97a3f9-7690-4c3c-9b6e-e4bc659a0c04"
   },
   "outputs": [],
   "source": [
    "#!gsutil cp <Link testcase> .\n"
   ]
  },
  {
   "attachments": {},
   "cell_type": "markdown",
   "metadata": {},
   "source": [
    "# Execution"
   ]
  },
  {
   "cell_type": "code",
   "execution_count": null,
   "metadata": {},
   "outputs": [],
   "source": [
    "# TODO : Run program"
   ]
  }
 ],
 "metadata": {
  "accelerator": "GPU",
  "colab": {
   "collapsed_sections": [
    "F-XhfXxnh1PH",
    "VRjJkOLWh9Zh",
    "0OniSKRHisBx",
    "jTEFIvG_i4dZ",
    "2pXi7bvNkE-S",
    "nhR97Rz4x9A0"
   ],
   "name": "cuda_colab.ipynb",
   "provenance": [
    {
     "file_id": "1bK8t-KpK5WhHFofyG0ZX9nhWCLvNLvjf",
     "timestamp": 1646578992518
    }
   ]
  },
  "kernelspec": {
   "display_name": "Python 3 (ipykernel)",
   "language": "python",
   "name": "python3"
  },
  "language_info": {
   "codemirror_mode": {
    "name": "ipython",
    "version": 3
   },
   "file_extension": ".py",
   "mimetype": "text/x-python",
   "name": "python",
   "nbconvert_exporter": "python",
   "pygments_lexer": "ipython3",
   "version": "3.12.2"
  }
 },
 "nbformat": 4,
 "nbformat_minor": 1
}
